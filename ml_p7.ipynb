{
  "nbformat": 4,
  "nbformat_minor": 0,
  "metadata": {
    "colab": {
      "provenance": [],
      "authorship_tag": "ABX9TyMNuuljrQmZiroV0B3bPAl0",
      "include_colab_link": true
    },
    "kernelspec": {
      "name": "python3",
      "display_name": "Python 3"
    },
    "language_info": {
      "name": "python"
    }
  },
  "cells": [
    {
      "cell_type": "markdown",
      "metadata": {
        "id": "view-in-github",
        "colab_type": "text"
      },
      "source": [
        "<a href=\"https://colab.research.google.com/github/Aayush-Borkar/ML-Lab/blob/main/ml_p7.ipynb\" target=\"_parent\"><img src=\"https://colab.research.google.com/assets/colab-badge.svg\" alt=\"Open In Colab\"/></a>"
      ]
    },
    {
      "cell_type": "code",
      "execution_count": 81,
      "metadata": {
        "id": "BoO8vWfnO3Nh"
      },
      "outputs": [],
      "source": [
        "import pandas as pd\n",
        "from sklearn.model_selection import train_test_split\n",
        "from sklearn.ensemble import RandomForestClassifier, AdaBoostClassifier, GradientBoostingClassifier\n",
        "from xgboost import XGBClassifier\n",
        "from sklearn.metrics import accuracy_score"
      ]
    },
    {
      "cell_type": "code",
      "source": [
        "# Load the dataset\n",
        "data = pd.read_csv(\"https://raw.githubusercontent.com/jbrownlee/Datasets/master/pima-indians-diabetes.data.csv\", header=None)\n",
        "data.columns = [\"Pregnancies\", \"Glucose\", \"BloodPressure\", \"SkinThickness\", \"Insulin\", \"BMI\", \"DiabetesPedigreeFunction\", \"Age\", \"Outcome\"]"
      ],
      "metadata": {
        "id": "I3_Z1ZrhPhK0"
      },
      "execution_count": 82,
      "outputs": []
    },
    {
      "cell_type": "code",
      "source": [
        "X =  data[['Pregnancies', 'Glucose', 'Insulin', 'BMI']] # Features\n",
        "y = data['Outcome']  # Target variable"
      ],
      "metadata": {
        "id": "DnsbIT0-Se-s"
      },
      "execution_count": 105,
      "outputs": []
    },
    {
      "cell_type": "code",
      "source": [
        "X_train, X_test, y_train, y_test = train_test_split(X, y, test_size=0.2, random_state=42)"
      ],
      "metadata": {
        "id": "q41MaEnuY5U-"
      },
      "execution_count": 106,
      "outputs": []
    },
    {
      "cell_type": "code",
      "source": [
        "rf_classifier = RandomForestClassifier(n_estimators=100, random_state=42)\n",
        "rf_classifier.fit(X_train, y_train)\n",
        "rf_predictions = rf_classifier.predict(X_test)"
      ],
      "metadata": {
        "id": "1qeTHX8FY7l2"
      },
      "execution_count": 107,
      "outputs": []
    },
    {
      "cell_type": "code",
      "source": [
        "ada_classifier = AdaBoostClassifier(n_estimators=50, random_state=42)\n",
        "ada_classifier.fit(X_train, y_train)\n",
        "ada_predictions = ada_classifier.predict(X_test)"
      ],
      "metadata": {
        "id": "8relGcQrY9mt"
      },
      "execution_count": 108,
      "outputs": []
    },
    {
      "cell_type": "code",
      "source": [
        "xgb_classifier = XGBClassifier(n_estimators=100, random_state=42)\n",
        "xgb_classifier.fit(X_train, y_train)\n",
        "xgb_predictions = xgb_classifier.predict(X_test)"
      ],
      "metadata": {
        "id": "UlyPGNx7Y_xl"
      },
      "execution_count": 109,
      "outputs": []
    },
    {
      "cell_type": "code",
      "source": [
        "gb_classifier = GradientBoostingClassifier(n_estimators=100, random_state=42)\n",
        "gb_classifier.fit(X_train, y_train)\n",
        "gb_predictions = gb_classifier.predict(X_test)"
      ],
      "metadata": {
        "id": "rf5bsLS8ZjVG"
      },
      "execution_count": 110,
      "outputs": []
    },
    {
      "cell_type": "code",
      "source": [
        "rf_accuracy = accuracy_score(y_test, rf_predictions)\n",
        "ada_accuracy = accuracy_score(y_test, ada_predictions)\n",
        "gb_accuracy = accuracy_score(y_test, gb_predictions)\n",
        "xgb_accuracy = accuracy_score(y_test, xgb_predictions)"
      ],
      "metadata": {
        "id": "_iM-GH0KZCKn"
      },
      "execution_count": 111,
      "outputs": []
    },
    {
      "cell_type": "code",
      "source": [
        "print(\"Random Forest Accuracy:\", rf_accuracy)\n",
        "print(\"AdaBoost Accuracy:\", ada_accuracy)\n",
        "print(\"Gradient Boosting Accuracy:\", gb_accuracy)\n",
        "print(\"XGBoost Accuracy:\", xgb_accuracy)"
      ],
      "metadata": {
        "colab": {
          "base_uri": "https://localhost:8080/"
        },
        "id": "rP3YpBJQZljO",
        "outputId": "b5512f6b-f43d-4980-dc60-4bbe3f30a2ec"
      },
      "execution_count": 112,
      "outputs": [
        {
          "output_type": "stream",
          "name": "stdout",
          "text": [
            "Random Forest Accuracy: 0.7337662337662337\n",
            "AdaBoost Accuracy: 0.7727272727272727\n",
            "Gradient Boosting Accuracy: 0.7792207792207793\n",
            "XGBoost Accuracy: 0.7207792207792207\n"
          ]
        }
      ]
    },
    {
      "cell_type": "code",
      "source": [
        "import matplotlib.pyplot as plt\n",
        "import numpy as np"
      ],
      "metadata": {
        "id": "midSs8lkZsff"
      },
      "execution_count": 102,
      "outputs": []
    },
    {
      "cell_type": "code",
      "source": [
        "models = ['Random Forest', 'AdaBoost', 'Gradient Boosting', 'XGBoost']\n",
        "accuracies = [rf_accuracy, ada_accuracy, gb_accuracy, xgb_accuracy]"
      ],
      "metadata": {
        "id": "XZr1ieBQZteO"
      },
      "execution_count": 103,
      "outputs": []
    },
    {
      "cell_type": "code",
      "source": [
        "plt.figure(figsize=(10, 6))\n",
        "plt.bar(models, accuracies, color=['blue', 'green', 'red', 'purple'])\n",
        "plt.title('Model Accuracy Comparison')\n",
        "plt.xlabel('Model')\n",
        "plt.ylabel('Accuracy')\n",
        "plt.ylim(0, 1)\n",
        "plt.show()"
      ],
      "metadata": {
        "colab": {
          "base_uri": "https://localhost:8080/",
          "height": 564
        },
        "id": "vC1w7_hHZwPn",
        "outputId": "d983af74-b51f-45fc-87ea-181713bacfe1"
      },
      "execution_count": 104,
      "outputs": [
        {
          "output_type": "display_data",
          "data": {
            "text/plain": [
              "<Figure size 1000x600 with 1 Axes>"
            ],
            "image/png": "[encoded data removed]"
          },
          "metadata": {}
        }
      ]
    }
  ]
}